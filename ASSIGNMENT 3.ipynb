{
 "cells": [
  {
   "cell_type": "code",
   "execution_count": null,
   "id": "5e871844-9b86-4380-9865-0344fd4249c9",
   "metadata": {},
   "outputs": [],
   "source": [
    "#ANS:1"
   ]
  },
  {
   "cell_type": "code",
   "execution_count": null,
   "id": "c412a9e8-7b04-489f-a21f-740697ebae9b",
   "metadata": {},
   "outputs": [],
   "source": [
    "#FOR LOOP\n",
    "\n",
    "A for loop is a control flow statement that executes code for a predefined number of iterations. The keyword used in this control flow statement is “for”. When the number of iterations is already known, the for loop is used.\n",
    "\n",
    "The for loop is divided into two parts −\n",
    "\n",
    "Header − This part specifies the iteration of the loop. In the header part, the loop variable is also declared, which tells the body which iteration is being executed.\n",
    "\n",
    "Body − The body part contains the statement executed per iteration.\n",
    "\n",
    "The initialization, condition checking, and iteration statements are written at the beginning of the loop.\n",
    "\n",
    "It is used only when the number of iterations is known beforehand.\n",
    "\n",
    "If the condition is not mentioned in the 'for' loop, then the loop iterates the infinite number of times.\n",
    "\n",
    "The initialization is done only once, and it is never repeated.\n",
    "\n",
    "The iteration statement is written at the beginning.\n",
    "\n",
    "Hence, it executes once all statements in the loop have been executed."
   ]
  },
  {
   "cell_type": "code",
   "execution_count": null,
   "id": "453ae85a-d50c-4642-9b84-ce48110ac1c2",
   "metadata": {},
   "outputs": [],
   "source": [
    "#EXAMPLE FOR LOOP"
   ]
  },
  {
   "cell_type": "code",
   "execution_count": 1,
   "id": "e0122216-066f-44f8-80a6-6e86b16066be",
   "metadata": {},
   "outputs": [
    {
     "name": "stdout",
     "output_type": "stream",
     "text": [
      "Input list elements:\n",
      "10\n",
      "20\n",
      "30\n",
      "40\n",
      "50\n"
     ]
    }
   ],
   "source": [
    "# input list\n",
    "inputList = [10, 20, 30, 40, 50]\n",
    "print(\"Input list elements:\")\n",
    "# traversing through all elements of the list using for loop\n",
    "for element in inputList:\n",
    "   # printing each element of the list\n",
    "   print(element)"
   ]
  },
  {
   "cell_type": "code",
   "execution_count": null,
   "id": "5980ce90-ca85-45a1-a4ff-3c2e49d8b744",
   "metadata": {},
   "outputs": [],
   "source": [
    "#WHILE LOOP\n",
    "\n",
    "A loop that runs a single statement or a set of statements for a given true condition. This loop is represented by the keyword \"while.\" When the number of iterations is unknown, a \"while\" loop is used. The statement is repeated until the boolean value is false. Because the condition is tested at the beginning of a while loop, it is also known as the pre-test loop.\n",
    "\n",
    "The initialization and condition checking are done at the beginning of the loop.\n",
    "\n",
    "It is used only when the number of iterations isn’t known.\n",
    "\n",
    "If the condition is not mentioned in the 'while' loop, it results in a compilation error.\n",
    "\n",
    "If the initialization is done when the condition is being checked, then initialization occurs every time the loop is iterated through.\n",
    "\n",
    "The iteration statement can be written within any point inside the loop.\n",
    "\n",
    "Syntax"
   ]
  },
  {
   "cell_type": "code",
   "execution_count": null,
   "id": "09fbf404-eed5-4bf8-aef2-0445ed199434",
   "metadata": {},
   "outputs": [],
   "source": [
    "#EXAMPLE WHILE LOOP"
   ]
  },
  {
   "cell_type": "code",
   "execution_count": 3,
   "id": "ae20c88a-0b67-43ee-8e02-593b7d863055",
   "metadata": {},
   "outputs": [
    {
     "name": "stdout",
     "output_type": "stream",
     "text": [
      "1\n",
      "2\n",
      "3\n",
      "4\n",
      "5\n",
      "6\n",
      "7\n",
      "8\n",
      "9\n"
     ]
    }
   ],
   "source": [
    "# Initializing a dummy variable with 1\n",
    "i = 1\n",
    "# Iterate until the given condition is true\n",
    "while i < 10:\n",
    "   # printing the current value of the above variable\n",
    "   print(i)\n",
    "   # incrementing the value of i value by 1\n",
    "   i += 1 "
   ]
  },
  {
   "cell_type": "code",
   "execution_count": null,
   "id": "45fb3496-a1a7-4aa0-a2fd-9bba0857617f",
   "metadata": {},
   "outputs": [],
   "source": [
    "#ANS:2"
   ]
  },
  {
   "cell_type": "code",
   "execution_count": 2,
   "id": "b1eedd58-4b30-4409-99da-0c51a681671d",
   "metadata": {},
   "outputs": [
    {
     "name": "stdout",
     "output_type": "stream",
     "text": [
      "The sum is 136\n"
     ]
    }
   ],
   "source": [
    "# Sum of natural numbers up to num\n",
    "\n",
    "num = 16\n",
    "\n",
    "if num < 0:\n",
    "   print(\"Enter a positive number\")\n",
    "else:\n",
    "   sum = 0\n",
    "   # use while loop to iterate until zero\n",
    "   while(num > 0):\n",
    "       sum += num\n",
    "       num -= 1\n",
    "   print(\"The sum is\", sum)"
   ]
  },
  {
   "cell_type": "code",
   "execution_count": 2,
   "id": "1ac85ee7-67ad-4e0f-87a5-c21484404851",
   "metadata": {},
   "outputs": [],
   "source": [
    "#ANS:3"
   ]
  },
  {
   "cell_type": "code",
   "execution_count": 4,
   "id": "30027a2b-e7f3-488a-8d8b-a8fd8e990823",
   "metadata": {},
   "outputs": [
    {
     "name": "stdin",
     "output_type": "stream",
     "text": [
      "Enter your unit:  223\n"
     ]
    },
    {
     "name": "stdout",
     "output_type": "stream",
     "text": [
      "Bill Per Unit: 1259.8899999999999\n",
      "Bill after adding Line rent: 1583.2399999999998\n",
      "Bill after adding Meter rent: 1683.2399999999998\n",
      "Total Bill after adding tax: 1952.5584\n"
     ]
    }
   ],
   "source": [
    "unit = int(input(\"Enter your unit: \"))\n",
    "if unit <= 100:\n",
    "    bill = unit * 3.46\n",
    "elif unit >= 101 and unit <= 300:\n",
    "    bill = 346 + ((unit - 100) * 7.43)\n",
    "elif unit >= 301 and unit <= 500:\n",
    "    bill = 346 + 1486 + ((unit - 300) * 10.32)\n",
    "else:\n",
    "    bill = 346 + 1486 + 2064 + ((unit - 500) * 11.71)\n",
    "print(\"Bill Per Unit:\",bill)\n",
    "bill = bill + (unit*1.45)\n",
    "print(\"Bill after adding Line rent:\",bill)\n",
    "bill = bill + 100\n",
    "print(\"Bill after adding Meter rent:\",bill)\n",
    "bill = bill + (bill*0.16)\n",
    "print(\"Total Bill after adding tax:\",bill)"
   ]
  },
  {
   "cell_type": "code",
   "execution_count": 5,
   "id": "ce82317b-800e-461a-a66e-3648fb87bc68",
   "metadata": {},
   "outputs": [],
   "source": [
    "#ANS:4"
   ]
  },
  {
   "cell_type": "code",
   "execution_count": 6,
   "id": "ccd4dc81-d9b8-4d53-bbd0-d16039c6ef4b",
   "metadata": {},
   "outputs": [
    {
     "name": "stdout",
     "output_type": "stream",
     "text": [
      "[1, 8, 27, 64]\n"
     ]
    }
   ],
   "source": [
    "# Initializing list\n",
    "l = [1, 2, 3, 4]\n",
    " \n",
    "# Cube List using loop\n",
    "res = []\n",
    "for i in l:\n",
    "    res.append(i*i*i)\n",
    " \n",
    "# printing result\n",
    "print(res)"
   ]
  },
  {
   "cell_type": "code",
   "execution_count": 7,
   "id": "38dac307-0670-4a5a-beec-75c9b635da07",
   "metadata": {},
   "outputs": [],
   "source": [
    "#ANS:5"
   ]
  },
  {
   "cell_type": "code",
   "execution_count": 8,
   "id": "23a3db0f-2f51-4a27-b999-972a3276cd8d",
   "metadata": {},
   "outputs": [
    {
     "name": "stdout",
     "output_type": "stream",
     "text": [
      "Number of vowels in the given string is:  I want to become Data Scientist\n"
     ]
    }
   ],
   "source": [
    "# Program: Count number of vowels in a String in Python\n",
    "\n",
    "example = \"Count number of vowels in a String in Python\"\n",
    "\n",
    "# initializing count variable\n",
    "count = 0\n",
    "\n",
    "# declaring a variable for index\n",
    "i = 0\n",
    "\n",
    "# iterate over the given string (example)\n",
    "# len(example) -> gives the length of the string in Python\n",
    "\n",
    "for i in range(len(example)):\n",
    "    if (\n",
    "        (example[i] == \"a\")\n",
    "        or (example[i] == \"e\")\n",
    "        or (example[i] == \"i\")\n",
    "        or (example[i] == \"o\")\n",
    "        or (example[i] == \"u\")\n",
    "    ):\n",
    "        count += 1\n",
    "\n",
    "print(\"Number of vowels in the given string is: \", \"I want to become Data Scientist\" )"
   ]
  }
 ],
 "metadata": {
  "kernelspec": {
   "display_name": "Python 3 (ipykernel)",
   "language": "python",
   "name": "python3"
  },
  "language_info": {
   "codemirror_mode": {
    "name": "ipython",
    "version": 3
   },
   "file_extension": ".py",
   "mimetype": "text/x-python",
   "name": "python",
   "nbconvert_exporter": "python",
   "pygments_lexer": "ipython3",
   "version": "3.10.8"
  }
 },
 "nbformat": 4,
 "nbformat_minor": 5
}
